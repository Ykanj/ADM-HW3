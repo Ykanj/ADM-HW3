{
 "cells": [
  {
   "cell_type": "code",
   "execution_count": 6,
   "metadata": {},
   "outputs": [
    {
     "name": "stderr",
     "output_type": "stream",
     "text": [
      "[nltk_data] Downloading package omw-1.4 to\n",
      "[nltk_data]     C:\\Users\\youse\\AppData\\Roaming\\nltk_data...\n"
     ]
    },
    {
     "data": {
      "text/plain": [
       "True"
      ]
     },
     "execution_count": 6,
     "metadata": {},
     "output_type": "execute_result"
    }
   ],
   "source": [
    "import pandas as pd\n",
    "from tqdm import tqdm\n",
    "import nltk\n",
    "from nltk.stem import WordNetLemmatizer\n",
    "import pickle\n",
    "nltk.download('omw-1.4')"
   ]
  },
  {
   "cell_type": "code",
   "execution_count": 3,
   "metadata": {},
   "outputs": [],
   "source": [
    "vocab = pd.read_csv(r\"C:\\Users\\youse\\Desktop\\ADM Hw3\\Vocabulary.csv\")\n",
    "vocab = vocab.drop(columns=[\"Unnamed: 0\"])\n",
    "\n",
    "degrees = pd.read_csv(r\"C:\\Users\\youse\\Desktop\\ADM Hw3\\Databases\\Parsed_database.csv\")\n",
    "degrees = degrees.drop(columns=[\"Unnamed: 0\"])\n",
    "\n",
    "with open('saved_dictionary.pkl', 'rb') as f:\n",
    "    inverted_index  = pickle.load(f)"
   ]
  },
  {
   "cell_type": "markdown",
   "metadata": {},
   "source": [
    "#### Our First Search Engine\n",
    "Below you will our our first attempt at a search engine, it takes as input a string, which it split and lemmatizes using the nltk library, and finds the term ID corresponding to that word. If that word doesnt have a Term ID, it will be disregarded. From there, we load our inverted index dictionary using the pickle library and we the intersection of all documents where these Term IDs were found, in order to find a document that contains all words. We create a dataframe to display all matches we found, otherwise we print \"No result was found meeting all criteria.\".\n"
   ]
  },
  {
   "cell_type": "code",
   "execution_count": 65,
   "metadata": {},
   "outputs": [
    {
     "name": "stdout",
     "output_type": "stream",
     "text": [
      "phobia not in dataset. It will not be included in search.\n",
      "{2721, 2661, 3852, 4690, 3318}\n"
     ]
    },
    {
     "data": {
      "text/html": [
       "<div>\n",
       "<style scoped>\n",
       "    .dataframe tbody tr th:only-of-type {\n",
       "        vertical-align: middle;\n",
       "    }\n",
       "\n",
       "    .dataframe tbody tr th {\n",
       "        vertical-align: top;\n",
       "    }\n",
       "\n",
       "    .dataframe thead th {\n",
       "        text-align: right;\n",
       "    }\n",
       "</style>\n",
       "<table border=\"1\" class=\"dataframe\">\n",
       "  <thead>\n",
       "    <tr style=\"text-align: right;\">\n",
       "      <th></th>\n",
       "      <th>courseName</th>\n",
       "      <th>universityName</th>\n",
       "      <th>description</th>\n",
       "      <th>url</th>\n",
       "    </tr>\n",
       "  </thead>\n",
       "  <tbody>\n",
       "    <tr>\n",
       "      <th>0</th>\n",
       "      <td>Game Technologies (MSc by Research / MRes)</td>\n",
       "      <td>University of Gloucestershire</td>\n",
       "      <td>WHAT IS GAME TECHNOLOGIES? Undertake postgradu...</td>\n",
       "      <td>https://www.findamasters.com/masters-degrees/c...</td>\n",
       "    </tr>\n",
       "    <tr>\n",
       "      <th>1</th>\n",
       "      <td>Forensic Psychology MSc</td>\n",
       "      <td>University of Greenwich</td>\n",
       "      <td>This MSc Forensic Psychology will teach you ho...</td>\n",
       "      <td>https://www.findamasters.com/masters-degrees/c...</td>\n",
       "    </tr>\n",
       "    <tr>\n",
       "      <th>2</th>\n",
       "      <td>Sustainable Cities - MSc</td>\n",
       "      <td>University of Leeds</td>\n",
       "      <td>Cities across the world are facing huge sustai...</td>\n",
       "      <td>https://www.findamasters.com/masters-degrees/c...</td>\n",
       "    </tr>\n",
       "    <tr>\n",
       "      <th>3</th>\n",
       "      <td>Master of Science (ScM) in Environmental Health</td>\n",
       "      <td>Johns Hopkins University</td>\n",
       "      <td>The ScM is intended for students with a seriou...</td>\n",
       "      <td>https://www.findamasters.com/masters-degrees/c...</td>\n",
       "    </tr>\n",
       "    <tr>\n",
       "      <th>4</th>\n",
       "      <td>Industrial Engineering and Management</td>\n",
       "      <td>Linköping University</td>\n",
       "      <td>This programme gives you the skills to adopt c...</td>\n",
       "      <td>https://www.findamasters.com/masters-degrees/c...</td>\n",
       "    </tr>\n",
       "  </tbody>\n",
       "</table>\n",
       "</div>"
      ],
      "text/plain": [
       "                                        courseName  \\\n",
       "0       Game Technologies (MSc by Research / MRes)   \n",
       "1                          Forensic Psychology MSc   \n",
       "2                         Sustainable Cities - MSc   \n",
       "3  Master of Science (ScM) in Environmental Health   \n",
       "4            Industrial Engineering and Management   \n",
       "\n",
       "                  universityName  \\\n",
       "0  University of Gloucestershire   \n",
       "1        University of Greenwich   \n",
       "2            University of Leeds   \n",
       "3       Johns Hopkins University   \n",
       "4           Linköping University   \n",
       "\n",
       "                                         description  \\\n",
       "0  WHAT IS GAME TECHNOLOGIES? Undertake postgradu...   \n",
       "1  This MSc Forensic Psychology will teach you ho...   \n",
       "2  Cities across the world are facing huge sustai...   \n",
       "3  The ScM is intended for students with a seriou...   \n",
       "4  This programme gives you the skills to adopt c...   \n",
       "\n",
       "                                                 url  \n",
       "0  https://www.findamasters.com/masters-degrees/c...  \n",
       "1  https://www.findamasters.com/masters-degrees/c...  \n",
       "2  https://www.findamasters.com/masters-degrees/c...  \n",
       "3  https://www.findamasters.com/masters-degrees/c...  \n",
       "4  https://www.findamasters.com/masters-degrees/c...  "
      ]
     },
     "execution_count": 65,
     "metadata": {},
     "output_type": "execute_result"
    }
   ],
   "source": [
    "query = \"experience serious phobia\"\n",
    "\n",
    "match_list = []\n",
    "for word in query.lower().split(\" \"):\n",
    "    lemma = WordNetLemmatizer().lemmatize(word)\n",
    "    word_id = vocab[vocab['term'] == lemma]['term_id']\n",
    "    try:\n",
    "        word_id = word_id.values[0]\n",
    "        matches = set(inverted_index[word_id]) \n",
    "        match_list.append(matches)\n",
    "    except:\n",
    "        print(f\"{word} not in dataset. It will not be included in search.\")\n",
    "    \n",
    "result_id = set.intersection(*match_list)   \n",
    "all_results = pd.DataFrame(columns=[\"courseName\", \"universityName\", \"description\", \"url\"])\n",
    "\n",
    "print(result_id)\n",
    "if len(result_id) > 0 :\n",
    "    for res in result_id:\n",
    "        course = degrees[\"courseName\"][res]\n",
    "        uni = degrees[\"universityName\"][res]\n",
    "        desc = \" \".join(degrees[\"description\"][res].split())\n",
    "        url = degrees[\"url\"][res]\n",
    "        all_results.loc[len(all_results)] = [course, uni, desc, url]\n",
    "      \n",
    "else:\n",
    "    print(\"No result was found meeting all criteria.\")    \n",
    "all_results.head(50)     \n",
    "\n",
    "        \n"
   ]
  },
  {
   "cell_type": "code",
   "execution_count": null,
   "metadata": {},
   "outputs": [],
   "source": []
  }
 ],
 "metadata": {
  "kernelspec": {
   "display_name": "base",
   "language": "python",
   "name": "python3"
  },
  "language_info": {
   "codemirror_mode": {
    "name": "ipython",
    "version": 3
   },
   "file_extension": ".py",
   "mimetype": "text/x-python",
   "name": "python",
   "nbconvert_exporter": "python",
   "pygments_lexer": "ipython3",
   "version": "3.10.9"
  }
 },
 "nbformat": 4,
 "nbformat_minor": 2
}
