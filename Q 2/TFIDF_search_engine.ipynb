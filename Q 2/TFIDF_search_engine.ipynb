{
 "cells": [
  {
   "cell_type": "code",
   "execution_count": 57,
   "metadata": {},
   "outputs": [],
   "source": [
    "import pickle\n",
    "import numpy as np\n",
    "import pandas as pd\n",
    "import math\n",
    "from NLTK_cleaning import clean \n",
    "\n",
    "def tf(term, text):\n",
    "    term_count = text.count(term)\n",
    "    total_words = len(text)\n",
    "    return term_count / total_words  \n",
    "\n",
    "def idf(term, df):\n",
    "    count = df[\"cleaned description\"].apply(lambda x: term in x if isinstance(x, str) else False).sum()\n",
    "    print(count)\n",
    "    return math.log((len(df))/(count))        \n",
    "\n",
    "\n",
    "def calculate_cosine_similarity(query_tfidf, document_tfidf):\n",
    "    dot_product = np.dot(query_tfidf, document_tfidf)\n",
    "    norm_query = np.linalg.norm(query_tfidf)\n",
    "    norm_document = np.linalg.norm(document_tfidf)\n",
    "    if norm_query == 0 or norm_document == 0:\n",
    "        return 0.0 \n",
    "    cosine_similarity = dot_product / (norm_query * norm_document)\n",
    "    return cosine_similarity\n",
    "\n",
    "with open(r\"C:\\Users\\youse\\Desktop\\GitHub\\adm-hw3\\Databases\\saved_dictionary_tfidf.pkl\", 'rb') as f:\n",
    "    tfidf_dict = pickle.load(f)\n",
    "with open(r\"C:\\Users\\youse\\Desktop\\GitHub\\adm-hw3\\Databases\\saved_dictionary.pkl\", 'rb') as f:\n",
    "    inverted_index = pickle.load(f)\n",
    "\n",
    "vocab_path = r'C:\\Users\\youse\\Desktop\\GitHub\\adm-hw3\\Databases\\Vocabulary.csv'\n",
    "vocab = pd.read_csv(vocab_path)\n",
    "\n",
    "degrees = pd.read_csv(r\"C:\\Users\\youse\\Desktop\\GitHub\\adm-hw3\\Databases\\Parsed_database.csv\")\n",
    "degrees = degrees.drop(columns=[\"Unnamed: 0\"])\n",
    "\n",
    "\n",
    "\n"
   ]
  },
  {
   "cell_type": "code",
   "execution_count": 58,
   "metadata": {},
   "outputs": [
    {
     "name": "stdout",
     "output_type": "stream",
     "text": [
      "91    100091\n",
      "Name: term_id, dtype: int64\n",
      "203    100203\n",
      "Name: term_id, dtype: int64\n",
      "204    100204\n",
      "Name: term_id, dtype: int64\n",
      "0.3333333333333333\n",
      "780\n",
      "2.0402208285265546\n",
      "0.3333333333333333\n",
      "217\n",
      "3.3196173946697325\n",
      "0.3333333333333333\n",
      "778\n",
      "2.0427882240318005\n",
      "{'engineering': 0.6800736095088515, 'big': 1.1065391315565773, 'data': 0.6809294080106001}\n",
      "{4371, 5787, 29, 1314, 1315, 681, 4783, 4784, 50, 5690, 3389, 65, 5190, 5585, 1234, 5587, 3289, 1504, 3686, 4582, 1259, 1145, 5887}\n"
     ]
    }
   ],
   "source": [
    "query = \"engineering big data\"\n",
    "\n",
    "match_list = []\n",
    "query = clean(query).lower().split(\" \")\n",
    "for lemma in query:\n",
    "    word_id = vocab[vocab['term'] == lemma]['term_id']\n",
    "    print(word_id)\n",
    "    try:\n",
    "        word_id = word_id.values[0]\n",
    "        matches = set(inverted_index[word_id]) \n",
    "        match_list.append(matches)\n",
    "    except:\n",
    "        print(f\"{lemma} not in dataset. It will not be included in search.\")\n",
    "        query.remove(lemma)\n",
    "result_id = set.intersection(*match_list)   \n",
    "all_results = pd.DataFrame(columns=[\"courseName\", \"universityName\", \"description\", \"url\"])\n",
    "\n",
    "query_tfidf={}\n",
    "\n",
    "for word in query:\n",
    "    tf_query = tf(word, query)\n",
    "    print(tf_query)\n",
    "    idf_query = idf(word, degrees)\n",
    "    print(idf_query)\n",
    "    query_tfidf[word] = tf_query*idf_query\n",
    "\n",
    "tfidf_query_vocab =\n",
    "\n"
   ]
  }
 ],
 "metadata": {
  "kernelspec": {
   "display_name": "base",
   "language": "python",
   "name": "python3"
  },
  "language_info": {
   "codemirror_mode": {
    "name": "ipython",
    "version": 3
   },
   "file_extension": ".py",
   "mimetype": "text/x-python",
   "name": "python",
   "nbconvert_exporter": "python",
   "pygments_lexer": "ipython3",
   "version": "3.10.9"
  }
 },
 "nbformat": 4,
 "nbformat_minor": 2
}
